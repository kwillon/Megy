{
 "cells": [
  {
   "cell_type": "code",
   "execution_count": 1,
   "metadata": {},
   "outputs": [],
   "source": [
    "import pandas as pd\n",
    "import numpy as np\n",
    "import matplotlib.pyplot as plt"
   ]
  },
  {
   "cell_type": "code",
   "execution_count": 3,
   "metadata": {},
   "outputs": [],
   "source": [
    "df_1 = pd.read_csv(r'C:\\Users\\Ксения\\Project\\Megy\\content\\O_nan.csv')\n",
    "df_2 = pd.read_csv(r'C:\\Users\\Ксения\\Project\\Megy\\content\\Bias_data_3.csv')"
   ]
  },
  {
   "cell_type": "code",
   "execution_count": 4,
   "metadata": {},
   "outputs": [
    {
     "name": "stdout",
     "output_type": "stream",
     "text": [
      "<class 'pandas.core.frame.DataFrame'>\n",
      "RangeIndex: 568 entries, 0 to 567\n",
      "Data columns (total 22 columns):\n",
      " #   Column                                         Non-Null Count  Dtype  \n",
      "---  ------                                         --------------  -----  \n",
      " 0   Area/volume                                    568 non-null    float64\n",
      " 1   Max/min(size)                                  568 non-null    float64\n",
      " 2   org_coating_HAcceptors                         568 non-null    float64\n",
      " 3   org_coating_LogP                               568 non-null    float64\n",
      " 4   common_spin                                    568 non-null    float64\n",
      " 5   Effective anisotropy constant (J/m3)           568 non-null    float64\n",
      " 6   magnetic anisotropy constant (J/m3)            568 non-null    float64\n",
      " 7   magnetocrystalline anisotropy constant (J/m3)  568 non-null    float64\n",
      " 8   Anisotropy constant                            568 non-null    float64\n",
      " 9   Crystalline                                    568 non-null    float64\n",
      " 10  MAE                                            568 non-null    float64\n",
      " 11  Curie temperature (K)                          568 non-null    float64\n",
      " 12  Spehricity                                     568 non-null    float64\n",
      " 13  exchange constant (J/m) *10^-12                568 non-null    float64\n",
      " 14  Electronegativity core                         568 non-null    float64\n",
      " 15  Space group                                    568 non-null    float64\n",
      " 16  Demagnetization factors (Nd)                   568 non-null    float64\n",
      " 17  Saturation magnetization (emu/g)               568 non-null    float64\n",
      " 18  Coercivity (Oe)                                568 non-null    float64\n",
      " 19  Remanence magnetization (emu/g)                568 non-null    float64\n",
      " 20  interdomain coupling (alpha)                   568 non-null    float64\n",
      " 21  mass_magnetic_susceptibility(emu/Oe*g)         568 non-null    float64\n",
      "dtypes: float64(22)\n",
      "memory usage: 97.8 KB\n",
      "<class 'pandas.core.frame.DataFrame'>\n",
      "RangeIndex: 485 entries, 0 to 484\n",
      "Data columns (total 16 columns):\n",
      " #   Column             Non-Null Count  Dtype  \n",
      "---  ------             --------------  -----  \n",
      " 0   Unnamed: 0         485 non-null    int64  \n",
      " 1   space_group_shell  485 non-null    float64\n",
      " 2   coer_oe            485 non-null    float64\n",
      " 3   exc_bias_oe        485 non-null    float64\n",
      " 4   fc_field_t         485 non-null    float64\n",
      " 5   h_range_max_koe    485 non-null    float64\n",
      " 6   mr (emu/g)         485 non-null    float64\n",
      " 7   sat_em_g           485 non-null    float64\n",
      " 8   shape              485 non-null    float64\n",
      " 9   space_group_core   485 non-null    float64\n",
      " 10  temperature_k      485 non-null    float64\n",
      " 11  ver_shift_emu_g    485 non-null    float64\n",
      " 12  sphericity         485 non-null    float64\n",
      " 13  exc_dir            485 non-null    float64\n",
      " 14  ver_s_dir          485 non-null    float64\n",
      " 15  area/volume        485 non-null    float64\n",
      "dtypes: float64(15), int64(1)\n",
      "memory usage: 60.8 KB\n",
      "None None\n"
     ]
    }
   ],
   "source": [
    "print(df_1.info(), df_2.info())"
   ]
  }
 ],
 "metadata": {
  "kernelspec": {
   "display_name": "Python 3",
   "language": "python",
   "name": "python3"
  },
  "language_info": {
   "codemirror_mode": {
    "name": "ipython",
    "version": 3
   },
   "file_extension": ".py",
   "mimetype": "text/x-python",
   "name": "python",
   "nbconvert_exporter": "python",
   "pygments_lexer": "ipython3",
   "version": "3.11.4"
  }
 },
 "nbformat": 4,
 "nbformat_minor": 2
}
