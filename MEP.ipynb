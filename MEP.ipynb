{
  "nbformat": 4,
  "nbformat_minor": 0,
  "metadata": {
    "colab": {
      "provenance": [],
      "authorship_tag": "ABX9TyMtqY6oSEIqZoZ0uXaC3ITx"
    },
    "kernelspec": {
      "name": "python3",
      "display_name": "Python 3"
    },
    "language_info": {
      "name": "python"
    }
  },
  "cells": [
    {
      "cell_type": "code",
      "execution_count": 9,
      "metadata": {
        "id": "qoLAmJ6KlI9J",
        "colab": {
          "base_uri": "https://localhost:8080/"
        },
        "outputId": "09a39d11-85f7-43a3-a667-386e5f6ef6c7"
      },
      "outputs": [
        {
          "output_type": "stream",
          "name": "stdout",
          "text": [
            "Requirement already satisfied: pymatgen in /usr/local/lib/python3.10/dist-packages (2023.11.12)\n",
            "Requirement already satisfied: matplotlib>=1.5 in /usr/local/lib/python3.10/dist-packages (from pymatgen) (3.7.1)\n",
            "Requirement already satisfied: monty>=3.0.2 in /usr/local/lib/python3.10/dist-packages (from pymatgen) (2023.11.3)\n",
            "Requirement already satisfied: networkx>=2.2 in /usr/local/lib/python3.10/dist-packages (from pymatgen) (3.2.1)\n",
            "Requirement already satisfied: numpy>=1.25.0 in /usr/local/lib/python3.10/dist-packages (from pymatgen) (1.26.2)\n",
            "Requirement already satisfied: palettable>=3.1.1 in /usr/local/lib/python3.10/dist-packages (from pymatgen) (3.3.3)\n",
            "Requirement already satisfied: pandas in /usr/local/lib/python3.10/dist-packages (from pymatgen) (1.5.3)\n",
            "Requirement already satisfied: plotly>=4.5.0 in /usr/local/lib/python3.10/dist-packages (from pymatgen) (5.15.0)\n",
            "Requirement already satisfied: pybtex in /usr/local/lib/python3.10/dist-packages (from pymatgen) (0.24.0)\n",
            "Requirement already satisfied: requests in /usr/local/lib/python3.10/dist-packages (from pymatgen) (2.31.0)\n",
            "Requirement already satisfied: ruamel.yaml>=0.17.0 in /usr/local/lib/python3.10/dist-packages (from pymatgen) (0.18.5)\n",
            "Requirement already satisfied: scipy>=1.5.0 in /usr/local/lib/python3.10/dist-packages (from pymatgen) (1.11.4)\n",
            "Requirement already satisfied: spglib>=2.0.2 in /usr/local/lib/python3.10/dist-packages (from pymatgen) (2.1.0)\n",
            "Requirement already satisfied: sympy in /usr/local/lib/python3.10/dist-packages (from pymatgen) (1.12)\n",
            "Requirement already satisfied: tabulate in /usr/local/lib/python3.10/dist-packages (from pymatgen) (0.9.0)\n",
            "Requirement already satisfied: tqdm in /usr/local/lib/python3.10/dist-packages (from pymatgen) (4.66.1)\n",
            "Requirement already satisfied: uncertainties>=3.1.4 in /usr/local/lib/python3.10/dist-packages (from pymatgen) (3.1.7)\n",
            "Requirement already satisfied: joblib in /usr/local/lib/python3.10/dist-packages (from pymatgen) (1.3.2)\n",
            "Requirement already satisfied: contourpy>=1.0.1 in /usr/local/lib/python3.10/dist-packages (from matplotlib>=1.5->pymatgen) (1.2.0)\n",
            "Requirement already satisfied: cycler>=0.10 in /usr/local/lib/python3.10/dist-packages (from matplotlib>=1.5->pymatgen) (0.12.1)\n",
            "Requirement already satisfied: fonttools>=4.22.0 in /usr/local/lib/python3.10/dist-packages (from matplotlib>=1.5->pymatgen) (4.45.1)\n",
            "Requirement already satisfied: kiwisolver>=1.0.1 in /usr/local/lib/python3.10/dist-packages (from matplotlib>=1.5->pymatgen) (1.4.5)\n",
            "Requirement already satisfied: packaging>=20.0 in /usr/local/lib/python3.10/dist-packages (from matplotlib>=1.5->pymatgen) (23.2)\n",
            "Requirement already satisfied: pillow>=6.2.0 in /usr/local/lib/python3.10/dist-packages (from matplotlib>=1.5->pymatgen) (9.4.0)\n",
            "Requirement already satisfied: pyparsing>=2.3.1 in /usr/local/lib/python3.10/dist-packages (from matplotlib>=1.5->pymatgen) (3.1.1)\n",
            "Requirement already satisfied: python-dateutil>=2.7 in /usr/local/lib/python3.10/dist-packages (from matplotlib>=1.5->pymatgen) (2.8.2)\n",
            "Requirement already satisfied: tenacity>=6.2.0 in /usr/local/lib/python3.10/dist-packages (from plotly>=4.5.0->pymatgen) (8.2.3)\n",
            "Requirement already satisfied: ruamel.yaml.clib>=0.2.7 in /usr/local/lib/python3.10/dist-packages (from ruamel.yaml>=0.17.0->pymatgen) (0.2.8)\n",
            "Requirement already satisfied: future in /usr/local/lib/python3.10/dist-packages (from uncertainties>=3.1.4->pymatgen) (0.18.3)\n",
            "Requirement already satisfied: pytz>=2020.1 in /usr/local/lib/python3.10/dist-packages (from pandas->pymatgen) (2023.3.post1)\n",
            "Requirement already satisfied: PyYAML>=3.01 in /usr/local/lib/python3.10/dist-packages (from pybtex->pymatgen) (6.0.1)\n",
            "Requirement already satisfied: latexcodec>=1.0.4 in /usr/local/lib/python3.10/dist-packages (from pybtex->pymatgen) (2.0.1)\n",
            "Requirement already satisfied: six in /usr/local/lib/python3.10/dist-packages (from pybtex->pymatgen) (1.16.0)\n",
            "Requirement already satisfied: charset-normalizer<4,>=2 in /usr/local/lib/python3.10/dist-packages (from requests->pymatgen) (3.3.2)\n",
            "Requirement already satisfied: idna<4,>=2.5 in /usr/local/lib/python3.10/dist-packages (from requests->pymatgen) (3.6)\n",
            "Requirement already satisfied: urllib3<3,>=1.21.1 in /usr/local/lib/python3.10/dist-packages (from requests->pymatgen) (2.0.7)\n",
            "Requirement already satisfied: certifi>=2017.4.17 in /usr/local/lib/python3.10/dist-packages (from requests->pymatgen) (2023.11.17)\n",
            "Requirement already satisfied: mpmath>=0.19 in /usr/local/lib/python3.10/dist-packages (from sympy->pymatgen) (1.3.0)\n"
          ]
        }
      ],
      "source": [
        "!pip3 install pymatgen"
      ]
    },
    {
      "cell_type": "code",
      "source": [
        "import pandas as pd\n",
        "import numpy as np\n",
        "import matplotlib\n",
        "import matplotlib.pyplot as plt"
      ],
      "metadata": {
        "id": "Xqub6lUQOWOt"
      },
      "execution_count": 10,
      "outputs": []
    },
    {
      "cell_type": "code",
      "source": [
        "df = pd.read_csv('/content/DATA 2.0 - сведение.csv')\n",
        "df.info"
      ],
      "metadata": {
        "id": "0kcoHBhJPKB1",
        "colab": {
          "base_uri": "https://localhost:8080/"
        },
        "outputId": "00dedfe3-f4a6-463a-8e80-9e06cb917e33"
      },
      "execution_count": 12,
      "outputs": [
        {
          "output_type": "execute_result",
          "data": {
            "text/plain": [
              "<bound method DataFrame.info of        #                                link  \\\n",
              "0      1  https://doi.org/10.1039/C4RA15675G   \n",
              "1      2  https://doi.org/10.1039/C4RA15675G   \n",
              "2      3  https://doi.org/10.1039/C4RA15675G   \n",
              "3      4  https://doi.org/10.1039/C4RA15675G   \n",
              "4      5  https://doi.org/10.1039/C4RA15675G   \n",
              "..   ...                                 ...   \n",
              "577  578                  10.1039/d1nr01044a   \n",
              "578  579                  10.1039/d1nr01044a   \n",
              "579  580                  10.1039/d1nr01044a   \n",
              "580  581                  10.1039/d1nr01044a   \n",
              "581  582                  10.1039/d1nr01044a   \n",
              "\n",
              "     Effective anisotropy constant ((kJ/m3)  Curie temperature (K)  \\\n",
              "0                                    1700.0                  795.0   \n",
              "1                                    1700.0                  795.0   \n",
              "2                                    1700.0                  795.0   \n",
              "3                                    1700.0                  795.0   \n",
              "4                                    1700.0                  795.0   \n",
              "..                                      ...                    ...   \n",
              "577                                     NaN                    NaN   \n",
              "578                                     NaN                  600.0   \n",
              "579                                     NaN                    NaN   \n",
              "580                                     NaN                    NaN   \n",
              "581                                     NaN                    NaN   \n",
              "\n",
              "     Demagnetization factors (Nd) Core composition (formula)  \\\n",
              "0                             NaN                    CoFe2O4   \n",
              "1                             NaN                    CoFe2O4   \n",
              "2                             NaN                    CoFe2O4   \n",
              "3                             NaN                    CoFe2O4   \n",
              "4                             NaN                    CoFe2O4   \n",
              "..                            ...                        ...   \n",
              "577                           NaN                    CoFe2O4   \n",
              "578                           NaN                    ZnFe2O4   \n",
              "579                           NaN                    CoFe2O4   \n",
              "580                           NaN                    CoFe2O4   \n",
              "581                           NaN                    CoFe2O4   \n",
              "\n",
              "     magnetic easy axis  Electronegativity core  Elongation  Flatness  ...  \\\n",
              "0                   NaN                     NaN         1.0       1.0  ...   \n",
              "1                   NaN                     NaN         1.0       1.0  ...   \n",
              "2                   NaN                     NaN         1.0       1.0  ...   \n",
              "3                   NaN                     NaN         1.0       1.0  ...   \n",
              "4                   NaN                     NaN         1.0       1.0  ...   \n",
              "..                  ...                     ...         ...       ...  ...   \n",
              "577                 NaN                     NaN         NaN       NaN  ...   \n",
              "578                 NaN                     NaN         NaN       NaN  ...   \n",
              "579                 NaN                     NaN         NaN       NaN  ...   \n",
              "580                 NaN                     NaN         NaN       NaN  ...   \n",
              "581                 NaN                     NaN         NaN       NaN  ...   \n",
              "\n",
              "     Max/min(size)  surface         pol  surf Magnetic moment of core  \\\n",
              "0              NaN    naked  oleic acid     0                     NaN   \n",
              "1              NaN    naked  oleic acid     0                     NaN   \n",
              "2              NaN    naked  oleic acid     0                     NaN   \n",
              "3              NaN    naked  oleic acid     0                     NaN   \n",
              "4              NaN    naked  oleic acid     0                     NaN   \n",
              "..             ...      ...         ...   ...                     ...   \n",
              "577            NaN      NaN         NaN   NaN                     NaN   \n",
              "578            NaN      NaN         NaN   NaN                     NaN   \n",
              "579            NaN      NaN         NaN   NaN                     NaN   \n",
              "580            NaN      NaN         NaN   NaN                     NaN   \n",
              "581            NaN      NaN         NaN   NaN                     NaN   \n",
              "\n",
              "     LogP of organic coating  Number H acceptors of organic coating  \\\n",
              "0                        NaN                                    NaN   \n",
              "1                        NaN                                    NaN   \n",
              "2                        NaN                                    NaN   \n",
              "3                        NaN                                    NaN   \n",
              "4                        NaN                                    NaN   \n",
              "..                       ...                                    ...   \n",
              "577                      NaN                                    NaN   \n",
              "578                      NaN                                    NaN   \n",
              "579                      NaN                                    NaN   \n",
              "580                      NaN                                    NaN   \n",
              "581                      NaN                                    NaN   \n",
              "\n",
              "     Field amplitude  Field frequency    SAR  \n",
              "0                NaN              NaN    NaN  \n",
              "1                NaN              NaN    NaN  \n",
              "2                NaN              NaN    NaN  \n",
              "3                NaN              NaN    NaN  \n",
              "4                NaN              NaN    NaN  \n",
              "..               ...              ...    ...  \n",
              "577              NaN              NaN  155.0  \n",
              "578              NaN              NaN   68.0  \n",
              "579              NaN              NaN  121.0  \n",
              "580              NaN              NaN  121.0  \n",
              "581              NaN              NaN  121.0  \n",
              "\n",
              "[582 rows x 30 columns]>"
            ]
          },
          "metadata": {},
          "execution_count": 12
        }
      ]
    },
    {
      "cell_type": "markdown",
      "source": [
        "Добавим электротрицательность через **pymatgen**\n",
        "*Пример:*\n",
        "```\n",
        "#\n",
        "your_element = Element(\"O\")\n",
        "your_element.X\n",
        "```\n",
        "\n"
      ],
      "metadata": {
        "id": "83GMP9_MQDch"
      }
    },
    {
      "cell_type": "code",
      "source": [
        "df.dtypes"
      ],
      "metadata": {
        "colab": {
          "base_uri": "https://localhost:8080/"
        },
        "id": "e3tfJhN4-Hzi",
        "outputId": "48409def-7fca-4d9d-f40b-d7e320d10cf9"
      },
      "execution_count": 30,
      "outputs": [
        {
          "output_type": "execute_result",
          "data": {
            "text/plain": [
              "#                                           int64\n",
              "link                                       object\n",
              "Effective anisotropy constant ((kJ/m3)    float64\n",
              "Curie temperature (K)                     float64\n",
              "Demagnetization factors (Nd)              float64\n",
              "Core composition (formula)                 object\n",
              "magnetic easy axis                        float64\n",
              "Electronegativity core                    float64\n",
              "Elongation                                float64\n",
              "Flatness                                  float64\n",
              "length, nm                                float64\n",
              "width, nm                                 float64\n",
              "depth, nm                                 float64\n",
              "Space group                               float64\n",
              "shape name                                 object\n",
              "Saturation magnetization (emu/g)          float64\n",
              "Coercivity (Oe)                           float64\n",
              "Remanence magnetization (emu/g)           float64\n",
              "Common spine                              float64\n",
              "Shell composition (surface)                object\n",
              "Max/min(size)                             float64\n",
              "surface                                    object\n",
              "pol                                        object\n",
              "surf                                       object\n",
              "Magnetic moment of core                   float64\n",
              "LogP of organic coating                   float64\n",
              "Number H acceptors of organic coating     float64\n",
              "Field amplitude                           float64\n",
              "Field frequency                           float64\n",
              "SAR                                       float64\n",
              "dtype: object"
            ]
          },
          "metadata": {},
          "execution_count": 30
        }
      ]
    },
    {
      "cell_type": "code",
      "source": [
        "from pymatgen.core.structure import Composition"
      ],
      "metadata": {
        "id": "OogQ3ZeXP0sz"
      },
      "execution_count": 13,
      "outputs": []
    },
    {
      "cell_type": "markdown",
      "source": [
        "Composition(*args, strict: bool = False, **kwargs) - может делить на составные части"
      ],
      "metadata": {
        "id": "pWDB25qJTCqC"
      }
    },
    {
      "cell_type": "code",
      "source": [
        "import re"
      ],
      "metadata": {
        "id": "U4O7mYRc41t0"
      },
      "execution_count": 14,
      "outputs": []
    },
    {
      "cell_type": "code",
      "source": [
        "n = 'Cu@LiO'\n",
        "w = re.split('@', n)\n",
        "bew = ''\n",
        "for i in w:\n",
        "  bew += i\n",
        "print(bew.average_electroneg)\n"
      ],
      "metadata": {
        "colab": {
          "base_uri": "https://localhost:8080/",
          "height": 210
        },
        "id": "au94pT788uHX",
        "outputId": "0e60923e-4078-47d3-da98-ea226e2be1db"
      },
      "execution_count": 31,
      "outputs": [
        {
          "output_type": "error",
          "ename": "AttributeError",
          "evalue": "ignored",
          "traceback": [
            "\u001b[0;31m---------------------------------------------------------------------------\u001b[0m",
            "\u001b[0;31mAttributeError\u001b[0m                            Traceback (most recent call last)",
            "\u001b[0;32m<ipython-input-31-f7301101c79d>\u001b[0m in \u001b[0;36m<cell line: 6>\u001b[0;34m()\u001b[0m\n\u001b[1;32m      4\u001b[0m \u001b[0;32mfor\u001b[0m \u001b[0mi\u001b[0m \u001b[0;32min\u001b[0m \u001b[0mw\u001b[0m\u001b[0;34m:\u001b[0m\u001b[0;34m\u001b[0m\u001b[0;34m\u001b[0m\u001b[0m\n\u001b[1;32m      5\u001b[0m   \u001b[0mbew\u001b[0m \u001b[0;34m+=\u001b[0m \u001b[0mi\u001b[0m\u001b[0;34m\u001b[0m\u001b[0;34m\u001b[0m\u001b[0m\n\u001b[0;32m----> 6\u001b[0;31m \u001b[0mprint\u001b[0m\u001b[0;34m(\u001b[0m\u001b[0mbew\u001b[0m\u001b[0;34m.\u001b[0m\u001b[0maverage_electroneg\u001b[0m\u001b[0;34m)\u001b[0m\u001b[0;34m\u001b[0m\u001b[0;34m\u001b[0m\u001b[0m\n\u001b[0m",
            "\u001b[0;31mAttributeError\u001b[0m: 'str' object has no attribute 'average_electroneg'"
          ]
        }
      ]
    },
    {
      "cell_type": "code",
      "source": [
        "for formula in df['Core composition (formula)']:\n",
        "  if formula.isalnum( ) == True:\n",
        "    comp = Composition(formula)\n",
        "    df['Electronegativity core'] = comp.average_electroneg\n",
        "  else:\n",
        "    line = re.split(\"-|@|/\", formula)\n",
        "    compSum = 0\n",
        "    while _ in line:\n",
        "      comp1 = Composition(i)\n",
        "      compSum += comp1\n",
        "    df['Electronegativity core'] = compSum.average_electroneg\n",
        "  print(comp.average_electroneg)"
      ],
      "metadata": {
        "id": "Z3f86TI_QCt2",
        "colab": {
          "base_uri": "https://localhost:8080/",
          "height": 887
        },
        "outputId": "16f39cee-0b4c-4357-ea5a-661a2ea3b4fe"
      },
      "execution_count": 32,
      "outputs": [
        {
          "output_type": "stream",
          "name": "stdout",
          "text": [
            "2.757142857142857\n",
            "2.757142857142857\n",
            "2.757142857142857\n",
            "2.757142857142857\n",
            "2.757142857142857\n",
            "2.757142857142857\n",
            "2.757142857142857\n",
            "2.757142857142857\n",
            "2.757142857142857\n",
            "2.757142857142857\n",
            "2.757142857142857\n",
            "2.71\n",
            "2.71\n",
            "2.71\n",
            "2.71\n",
            "2.71\n",
            "2.71\n",
            "2.71\n",
            "2.71\n",
            "2.6757142857142857\n",
            "2.6757142857142857\n",
            "2.6757142857142857\n",
            "2.761428571428571\n",
            "2.761428571428571\n",
            "2.761428571428571\n",
            "2.724285714285714\n",
            "2.724285714285714\n",
            "2.8699999999999997\n",
            "2.8699999999999997\n"
          ]
        },
        {
          "output_type": "error",
          "ename": "ValueError",
          "evalue": "ignored",
          "traceback": [
            "\u001b[0;31m---------------------------------------------------------------------------\u001b[0m",
            "\u001b[0;31mValueError\u001b[0m                                Traceback (most recent call last)",
            "\u001b[0;32m<ipython-input-32-d4b9bf61428d>\u001b[0m in \u001b[0;36m<cell line: 1>\u001b[0;34m()\u001b[0m\n\u001b[1;32m      6\u001b[0m     \u001b[0mline\u001b[0m \u001b[0;34m=\u001b[0m \u001b[0mre\u001b[0m\u001b[0;34m.\u001b[0m\u001b[0msplit\u001b[0m\u001b[0;34m(\u001b[0m\u001b[0;34m\"-|@|/\"\u001b[0m\u001b[0;34m,\u001b[0m \u001b[0mformula\u001b[0m\u001b[0;34m)\u001b[0m\u001b[0;34m\u001b[0m\u001b[0;34m\u001b[0m\u001b[0m\n\u001b[1;32m      7\u001b[0m     \u001b[0mcompSum\u001b[0m \u001b[0;34m=\u001b[0m \u001b[0;36m0\u001b[0m\u001b[0;34m\u001b[0m\u001b[0;34m\u001b[0m\u001b[0m\n\u001b[0;32m----> 8\u001b[0;31m     \u001b[0;32mwhile\u001b[0m \u001b[0m_\u001b[0m \u001b[0;32min\u001b[0m \u001b[0mline\u001b[0m\u001b[0;34m:\u001b[0m\u001b[0;34m\u001b[0m\u001b[0;34m\u001b[0m\u001b[0m\n\u001b[0m\u001b[1;32m      9\u001b[0m       \u001b[0mcomp1\u001b[0m \u001b[0;34m=\u001b[0m \u001b[0mComposition\u001b[0m\u001b[0;34m(\u001b[0m\u001b[0mi\u001b[0m\u001b[0;34m)\u001b[0m\u001b[0;34m\u001b[0m\u001b[0;34m\u001b[0m\u001b[0m\n\u001b[1;32m     10\u001b[0m       \u001b[0mcompSum\u001b[0m \u001b[0;34m+=\u001b[0m \u001b[0mcomp1\u001b[0m\u001b[0;34m\u001b[0m\u001b[0;34m\u001b[0m\u001b[0m\n",
            "\u001b[0;32m/usr/local/lib/python3.10/dist-packages/pandas/core/generic.py\u001b[0m in \u001b[0;36m__nonzero__\u001b[0;34m(self)\u001b[0m\n\u001b[1;32m   1525\u001b[0m     \u001b[0;34m@\u001b[0m\u001b[0mfinal\u001b[0m\u001b[0;34m\u001b[0m\u001b[0;34m\u001b[0m\u001b[0m\n\u001b[1;32m   1526\u001b[0m     \u001b[0;32mdef\u001b[0m \u001b[0m__nonzero__\u001b[0m\u001b[0;34m(\u001b[0m\u001b[0mself\u001b[0m\u001b[0;34m)\u001b[0m \u001b[0;34m->\u001b[0m \u001b[0mNoReturn\u001b[0m\u001b[0;34m:\u001b[0m\u001b[0;34m\u001b[0m\u001b[0;34m\u001b[0m\u001b[0m\n\u001b[0;32m-> 1527\u001b[0;31m         raise ValueError(\n\u001b[0m\u001b[1;32m   1528\u001b[0m             \u001b[0;34mf\"The truth value of a {type(self).__name__} is ambiguous. \"\u001b[0m\u001b[0;34m\u001b[0m\u001b[0;34m\u001b[0m\u001b[0m\n\u001b[1;32m   1529\u001b[0m             \u001b[0;34m\"Use a.empty, a.bool(), a.item(), a.any() or a.all().\"\u001b[0m\u001b[0;34m\u001b[0m\u001b[0;34m\u001b[0m\u001b[0m\n",
            "\u001b[0;31mValueError\u001b[0m: The truth value of a Series is ambiguous. Use a.empty, a.bool(), a.item(), a.any() or a.all()."
          ]
        }
      ]
    },
    {
      "cell_type": "code",
      "source": [
        "df.to_csv (r'C:\\Data_2.csv', index= False )"
      ],
      "metadata": {
        "id": "67ivtvFmVMKh"
      },
      "execution_count": 17,
      "outputs": []
    },
    {
      "cell_type": "code",
      "source": [],
      "metadata": {
        "id": "Vw-ePv8RHpE2"
      },
      "execution_count": null,
      "outputs": []
    }
  ]
}