{
  "nbformat": 4,
  "nbformat_minor": 0,
  "metadata": {
    "colab": {
      "provenance": [],
      "authorship_tag": "ABX9TyPAcrfPF8ml+5S5Ra51sW5q"
    },
    "kernelspec": {
      "name": "python3",
      "display_name": "Python 3"
    },
    "language_info": {
      "name": "python"
    }
  },
  "cells": [
    {
      "cell_type": "code",
      "execution_count": 3,
      "metadata": {
        "id": "qoLAmJ6KlI9J",
        "colab": {
          "base_uri": "https://localhost:8080/"
        },
        "outputId": "d28db698-605f-40d4-b163-a3fffcc07e20"
      },
      "outputs": [
        {
          "output_type": "stream",
          "name": "stdout",
          "text": [
            "Requirement already satisfied: pymatgen in /usr/local/lib/python3.10/dist-packages (2023.11.12)\n",
            "Requirement already satisfied: matplotlib>=1.5 in /usr/local/lib/python3.10/dist-packages (from pymatgen) (3.7.1)\n",
            "Requirement already satisfied: monty>=3.0.2 in /usr/local/lib/python3.10/dist-packages (from pymatgen) (2023.11.3)\n",
            "Requirement already satisfied: networkx>=2.2 in /usr/local/lib/python3.10/dist-packages (from pymatgen) (3.2.1)\n",
            "Requirement already satisfied: numpy>=1.25.0 in /usr/local/lib/python3.10/dist-packages (from pymatgen) (1.26.2)\n",
            "Requirement already satisfied: palettable>=3.1.1 in /usr/local/lib/python3.10/dist-packages (from pymatgen) (3.3.3)\n",
            "Requirement already satisfied: pandas in /usr/local/lib/python3.10/dist-packages (from pymatgen) (1.5.3)\n",
            "Requirement already satisfied: plotly>=4.5.0 in /usr/local/lib/python3.10/dist-packages (from pymatgen) (5.15.0)\n",
            "Requirement already satisfied: pybtex in /usr/local/lib/python3.10/dist-packages (from pymatgen) (0.24.0)\n",
            "Requirement already satisfied: requests in /usr/local/lib/python3.10/dist-packages (from pymatgen) (2.31.0)\n",
            "Requirement already satisfied: ruamel.yaml>=0.17.0 in /usr/local/lib/python3.10/dist-packages (from pymatgen) (0.18.5)\n",
            "Requirement already satisfied: scipy>=1.5.0 in /usr/local/lib/python3.10/dist-packages (from pymatgen) (1.11.4)\n",
            "Requirement already satisfied: spglib>=2.0.2 in /usr/local/lib/python3.10/dist-packages (from pymatgen) (2.1.0)\n",
            "Requirement already satisfied: sympy in /usr/local/lib/python3.10/dist-packages (from pymatgen) (1.12)\n",
            "Requirement already satisfied: tabulate in /usr/local/lib/python3.10/dist-packages (from pymatgen) (0.9.0)\n",
            "Requirement already satisfied: tqdm in /usr/local/lib/python3.10/dist-packages (from pymatgen) (4.66.1)\n",
            "Requirement already satisfied: uncertainties>=3.1.4 in /usr/local/lib/python3.10/dist-packages (from pymatgen) (3.1.7)\n",
            "Requirement already satisfied: joblib in /usr/local/lib/python3.10/dist-packages (from pymatgen) (1.3.2)\n",
            "Requirement already satisfied: contourpy>=1.0.1 in /usr/local/lib/python3.10/dist-packages (from matplotlib>=1.5->pymatgen) (1.2.0)\n",
            "Requirement already satisfied: cycler>=0.10 in /usr/local/lib/python3.10/dist-packages (from matplotlib>=1.5->pymatgen) (0.12.1)\n",
            "Requirement already satisfied: fonttools>=4.22.0 in /usr/local/lib/python3.10/dist-packages (from matplotlib>=1.5->pymatgen) (4.45.1)\n",
            "Requirement already satisfied: kiwisolver>=1.0.1 in /usr/local/lib/python3.10/dist-packages (from matplotlib>=1.5->pymatgen) (1.4.5)\n",
            "Requirement already satisfied: packaging>=20.0 in /usr/local/lib/python3.10/dist-packages (from matplotlib>=1.5->pymatgen) (23.2)\n",
            "Requirement already satisfied: pillow>=6.2.0 in /usr/local/lib/python3.10/dist-packages (from matplotlib>=1.5->pymatgen) (9.4.0)\n",
            "Requirement already satisfied: pyparsing>=2.3.1 in /usr/local/lib/python3.10/dist-packages (from matplotlib>=1.5->pymatgen) (3.1.1)\n",
            "Requirement already satisfied: python-dateutil>=2.7 in /usr/local/lib/python3.10/dist-packages (from matplotlib>=1.5->pymatgen) (2.8.2)\n",
            "Requirement already satisfied: tenacity>=6.2.0 in /usr/local/lib/python3.10/dist-packages (from plotly>=4.5.0->pymatgen) (8.2.3)\n",
            "Requirement already satisfied: ruamel.yaml.clib>=0.2.7 in /usr/local/lib/python3.10/dist-packages (from ruamel.yaml>=0.17.0->pymatgen) (0.2.8)\n",
            "Requirement already satisfied: future in /usr/local/lib/python3.10/dist-packages (from uncertainties>=3.1.4->pymatgen) (0.18.3)\n",
            "Requirement already satisfied: pytz>=2020.1 in /usr/local/lib/python3.10/dist-packages (from pandas->pymatgen) (2023.3.post1)\n",
            "Requirement already satisfied: PyYAML>=3.01 in /usr/local/lib/python3.10/dist-packages (from pybtex->pymatgen) (6.0.1)\n",
            "Requirement already satisfied: latexcodec>=1.0.4 in /usr/local/lib/python3.10/dist-packages (from pybtex->pymatgen) (2.0.1)\n",
            "Requirement already satisfied: six in /usr/local/lib/python3.10/dist-packages (from pybtex->pymatgen) (1.16.0)\n",
            "Requirement already satisfied: charset-normalizer<4,>=2 in /usr/local/lib/python3.10/dist-packages (from requests->pymatgen) (3.3.2)\n",
            "Requirement already satisfied: idna<4,>=2.5 in /usr/local/lib/python3.10/dist-packages (from requests->pymatgen) (3.6)\n",
            "Requirement already satisfied: urllib3<3,>=1.21.1 in /usr/local/lib/python3.10/dist-packages (from requests->pymatgen) (2.0.7)\n",
            "Requirement already satisfied: certifi>=2017.4.17 in /usr/local/lib/python3.10/dist-packages (from requests->pymatgen) (2023.11.17)\n",
            "Requirement already satisfied: mpmath>=0.19 in /usr/local/lib/python3.10/dist-packages (from sympy->pymatgen) (1.3.0)\n"
          ]
        }
      ],
      "source": [
        "!pip3 install pymatgen"
      ]
    },
    {
      "cell_type": "code",
      "source": [
        "import pandas as pd\n",
        "import numpy as np\n",
        "import matplotlib\n",
        "import matplotlib.pyplot as plt"
      ],
      "metadata": {
        "id": "Xqub6lUQOWOt"
      },
      "execution_count": 10,
      "outputs": []
    },
    {
      "cell_type": "code",
      "source": [
        "df = pd.read_csv('/content/DATA 2.0 - сведение.csv')\n",
        "df.info"
      ],
      "metadata": {
        "id": "0kcoHBhJPKB1",
        "colab": {
          "base_uri": "https://localhost:8080/"
        },
        "outputId": "a891b164-6732-4cc2-9ebd-13d52c022921"
      },
      "execution_count": 9,
      "outputs": [
        {
          "output_type": "execute_result",
          "data": {
            "text/plain": [
              "<bound method DataFrame.info of        #                                link  \\\n",
              "0      1  https://doi.org/10.1039/C4RA15675G   \n",
              "1      2  https://doi.org/10.1039/C4RA15675G   \n",
              "2      3  https://doi.org/10.1039/C4RA15675G   \n",
              "3      4  https://doi.org/10.1039/C4RA15675G   \n",
              "4      5  https://doi.org/10.1039/C4RA15675G   \n",
              "..   ...                                 ...   \n",
              "577  578                  10.1039/d1nr01044a   \n",
              "578  579                  10.1039/d1nr01044a   \n",
              "579  580                  10.1039/d1nr01044a   \n",
              "580  581                  10.1039/d1nr01044a   \n",
              "581  582                  10.1039/d1nr01044a   \n",
              "\n",
              "     Effective anisotropy constant ((kJ/m3)  Curie temperature (K)  \\\n",
              "0                                    1700.0                  795.0   \n",
              "1                                    1700.0                  795.0   \n",
              "2                                    1700.0                  795.0   \n",
              "3                                    1700.0                  795.0   \n",
              "4                                    1700.0                  795.0   \n",
              "..                                      ...                    ...   \n",
              "577                                     NaN                    NaN   \n",
              "578                                     NaN                  600.0   \n",
              "579                                     NaN                    NaN   \n",
              "580                                     NaN                    NaN   \n",
              "581                                     NaN                    NaN   \n",
              "\n",
              "     Demagnetization factors (Nd) Core composition (formula)  \\\n",
              "0                             NaN                    CoFe2O4   \n",
              "1                             NaN                    CoFe2O4   \n",
              "2                             NaN                    CoFe2O4   \n",
              "3                             NaN                    CoFe2O4   \n",
              "4                             NaN                    CoFe2O4   \n",
              "..                            ...                        ...   \n",
              "577                           NaN                    CoFe2O4   \n",
              "578                           NaN                    ZnFe2O4   \n",
              "579                           NaN                    CoFe2O4   \n",
              "580                           NaN                    CoFe2O4   \n",
              "581                           NaN                    CoFe2O4   \n",
              "\n",
              "     magnetic easy axis  Electronegativity core  Elongation  Flatness  ...  \\\n",
              "0                   NaN                     NaN         1.0       1.0  ...   \n",
              "1                   NaN                     NaN         1.0       1.0  ...   \n",
              "2                   NaN                     NaN         1.0       1.0  ...   \n",
              "3                   NaN                     NaN         1.0       1.0  ...   \n",
              "4                   NaN                     NaN         1.0       1.0  ...   \n",
              "..                  ...                     ...         ...       ...  ...   \n",
              "577                 NaN                     NaN         NaN       NaN  ...   \n",
              "578                 NaN                     NaN         NaN       NaN  ...   \n",
              "579                 NaN                     NaN         NaN       NaN  ...   \n",
              "580                 NaN                     NaN         NaN       NaN  ...   \n",
              "581                 NaN                     NaN         NaN       NaN  ...   \n",
              "\n",
              "     Max/min(size)  surface         pol  surf Magnetic moment of core  \\\n",
              "0              NaN    naked  oleic acid     0                     NaN   \n",
              "1              NaN    naked  oleic acid     0                     NaN   \n",
              "2              NaN    naked  oleic acid     0                     NaN   \n",
              "3              NaN    naked  oleic acid     0                     NaN   \n",
              "4              NaN    naked  oleic acid     0                     NaN   \n",
              "..             ...      ...         ...   ...                     ...   \n",
              "577            NaN      NaN         NaN   NaN                     NaN   \n",
              "578            NaN      NaN         NaN   NaN                     NaN   \n",
              "579            NaN      NaN         NaN   NaN                     NaN   \n",
              "580            NaN      NaN         NaN   NaN                     NaN   \n",
              "581            NaN      NaN         NaN   NaN                     NaN   \n",
              "\n",
              "     LogP of organic coating  Number H acceptors of organic coating  \\\n",
              "0                        NaN                                    NaN   \n",
              "1                        NaN                                    NaN   \n",
              "2                        NaN                                    NaN   \n",
              "3                        NaN                                    NaN   \n",
              "4                        NaN                                    NaN   \n",
              "..                       ...                                    ...   \n",
              "577                      NaN                                    NaN   \n",
              "578                      NaN                                    NaN   \n",
              "579                      NaN                                    NaN   \n",
              "580                      NaN                                    NaN   \n",
              "581                      NaN                                    NaN   \n",
              "\n",
              "     Field amplitude  Field frequency    SAR  \n",
              "0                NaN              NaN    NaN  \n",
              "1                NaN              NaN    NaN  \n",
              "2                NaN              NaN    NaN  \n",
              "3                NaN              NaN    NaN  \n",
              "4                NaN              NaN    NaN  \n",
              "..               ...              ...    ...  \n",
              "577              NaN              NaN  155.0  \n",
              "578              NaN              NaN   68.0  \n",
              "579              NaN              NaN  121.0  \n",
              "580              NaN              NaN  121.0  \n",
              "581              NaN              NaN  121.0  \n",
              "\n",
              "[582 rows x 30 columns]>"
            ]
          },
          "metadata": {},
          "execution_count": 9
        }
      ]
    },
    {
      "cell_type": "markdown",
      "source": [
        "Добавим электротрицательность через **pymatgen**\n",
        "*Пример:*\n",
        "```\n",
        "#\n",
        "your_element = Element(\"O\")\n",
        "your_element.X\n",
        "```\n",
        "\n"
      ],
      "metadata": {
        "id": "83GMP9_MQDch"
      }
    },
    {
      "cell_type": "code",
      "source": [
        "from pymatgen.core.structure import Composition"
      ],
      "metadata": {
        "id": "OogQ3ZeXP0sz"
      },
      "execution_count": 12,
      "outputs": []
    },
    {
      "cell_type": "markdown",
      "source": [
        "Composition(*args, strict: bool = False, **kwargs) - может делить на составные части"
      ],
      "metadata": {
        "id": "pWDB25qJTCqC"
      }
    },
    {
      "cell_type": "code",
      "source": [
        "for formula in df['Core composition (formula)']:\n",
        "  comp = Composition(formula)\n",
        "  df['Electronegativity core'] = comp.average_electroneg\n",
        "  print(comp.average_electroneg)"
      ],
      "metadata": {
        "id": "Z3f86TI_QCt2",
        "colab": {
          "base_uri": "https://localhost:8080/",
          "height": 911
        },
        "outputId": "590d3e9c-96ec-41c3-b9ec-e58d416e52e8"
      },
      "execution_count": 20,
      "outputs": [
        {
          "output_type": "stream",
          "name": "stdout",
          "text": [
            "2.757142857142857\n",
            "2.757142857142857\n",
            "2.757142857142857\n",
            "2.757142857142857\n",
            "2.757142857142857\n",
            "2.757142857142857\n",
            "2.757142857142857\n",
            "2.757142857142857\n",
            "2.757142857142857\n",
            "2.757142857142857\n",
            "2.757142857142857\n",
            "2.71\n",
            "2.71\n",
            "2.71\n",
            "2.71\n",
            "2.71\n",
            "2.71\n",
            "2.71\n",
            "2.71\n",
            "2.6757142857142857\n",
            "2.6757142857142857\n",
            "2.6757142857142857\n",
            "2.761428571428571\n",
            "2.761428571428571\n",
            "2.761428571428571\n",
            "2.724285714285714\n",
            "2.724285714285714\n",
            "2.8699999999999997\n",
            "2.8699999999999997\n",
            "2.7250000000000005\n",
            "2.7250000000000005\n"
          ]
        },
        {
          "output_type": "error",
          "ename": "ValueError",
          "evalue": "ignored",
          "traceback": [
            "\u001b[0;31m---------------------------------------------------------------------------\u001b[0m",
            "\u001b[0;31mValueError\u001b[0m                                Traceback (most recent call last)",
            "\u001b[0;32m<ipython-input-20-a79d8446e8d1>\u001b[0m in \u001b[0;36m<cell line: 1>\u001b[0;34m()\u001b[0m\n\u001b[1;32m      1\u001b[0m \u001b[0;32mfor\u001b[0m \u001b[0mformula\u001b[0m \u001b[0;32min\u001b[0m \u001b[0mdf\u001b[0m\u001b[0;34m[\u001b[0m\u001b[0;34m'Core composition (formula)'\u001b[0m\u001b[0;34m]\u001b[0m\u001b[0;34m:\u001b[0m\u001b[0;34m\u001b[0m\u001b[0;34m\u001b[0m\u001b[0m\n\u001b[0;32m----> 2\u001b[0;31m   \u001b[0mcomp\u001b[0m \u001b[0;34m=\u001b[0m \u001b[0mComposition\u001b[0m\u001b[0;34m(\u001b[0m\u001b[0mformula\u001b[0m\u001b[0;34m)\u001b[0m\u001b[0;34m\u001b[0m\u001b[0;34m\u001b[0m\u001b[0m\n\u001b[0m\u001b[1;32m      3\u001b[0m   \u001b[0mdf\u001b[0m\u001b[0;34m[\u001b[0m\u001b[0;34m'Electronegativity core'\u001b[0m\u001b[0;34m]\u001b[0m \u001b[0;34m=\u001b[0m \u001b[0mcomp\u001b[0m\u001b[0;34m.\u001b[0m\u001b[0maverage_electroneg\u001b[0m\u001b[0;34m\u001b[0m\u001b[0;34m\u001b[0m\u001b[0m\n\u001b[1;32m      4\u001b[0m   \u001b[0mprint\u001b[0m\u001b[0;34m(\u001b[0m\u001b[0mcomp\u001b[0m\u001b[0;34m.\u001b[0m\u001b[0maverage_electroneg\u001b[0m\u001b[0;34m)\u001b[0m\u001b[0;34m\u001b[0m\u001b[0;34m\u001b[0m\u001b[0m\n",
            "\u001b[0;32m/usr/local/lib/python3.10/dist-packages/pymatgen/core/composition.py\u001b[0m in \u001b[0;36m__init__\u001b[0;34m(self, strict, *args, **kwargs)\u001b[0m\n\u001b[1;32m    122\u001b[0m             \u001b[0melem_map\u001b[0m \u001b[0;34m=\u001b[0m \u001b[0margs\u001b[0m\u001b[0;34m[\u001b[0m\u001b[0;36m0\u001b[0m\u001b[0;34m]\u001b[0m\u001b[0;34m\u001b[0m\u001b[0;34m\u001b[0m\u001b[0m\n\u001b[1;32m    123\u001b[0m         \u001b[0;32melif\u001b[0m \u001b[0mlen\u001b[0m\u001b[0;34m(\u001b[0m\u001b[0margs\u001b[0m\u001b[0;34m)\u001b[0m \u001b[0;34m==\u001b[0m \u001b[0;36m1\u001b[0m \u001b[0;32mand\u001b[0m \u001b[0misinstance\u001b[0m\u001b[0;34m(\u001b[0m\u001b[0margs\u001b[0m\u001b[0;34m[\u001b[0m\u001b[0;36m0\u001b[0m\u001b[0;34m]\u001b[0m\u001b[0;34m,\u001b[0m \u001b[0mstr\u001b[0m\u001b[0;34m)\u001b[0m\u001b[0;34m:\u001b[0m\u001b[0;34m\u001b[0m\u001b[0;34m\u001b[0m\u001b[0m\n\u001b[0;32m--> 124\u001b[0;31m             \u001b[0melem_map\u001b[0m \u001b[0;34m=\u001b[0m \u001b[0mself\u001b[0m\u001b[0;34m.\u001b[0m\u001b[0m_parse_formula\u001b[0m\u001b[0;34m(\u001b[0m\u001b[0margs\u001b[0m\u001b[0;34m[\u001b[0m\u001b[0;36m0\u001b[0m\u001b[0;34m]\u001b[0m\u001b[0;34m)\u001b[0m  \u001b[0;31m# type: ignore\u001b[0m\u001b[0;34m\u001b[0m\u001b[0;34m\u001b[0m\u001b[0m\n\u001b[0m\u001b[1;32m    125\u001b[0m         \u001b[0;32melse\u001b[0m\u001b[0;34m:\u001b[0m\u001b[0;34m\u001b[0m\u001b[0;34m\u001b[0m\u001b[0m\n\u001b[1;32m    126\u001b[0m             \u001b[0melem_map\u001b[0m \u001b[0;34m=\u001b[0m \u001b[0mdict\u001b[0m\u001b[0;34m(\u001b[0m\u001b[0;34m*\u001b[0m\u001b[0margs\u001b[0m\u001b[0;34m,\u001b[0m \u001b[0;34m**\u001b[0m\u001b[0mkwargs\u001b[0m\u001b[0;34m)\u001b[0m  \u001b[0;31m# type: ignore\u001b[0m\u001b[0;34m\u001b[0m\u001b[0;34m\u001b[0m\u001b[0m\n",
            "\u001b[0;32m/usr/local/lib/python3.10/dist-packages/pymatgen/core/composition.py\u001b[0m in \u001b[0;36m_parse_formula\u001b[0;34m(self, formula)\u001b[0m\n\u001b[1;32m    559\u001b[0m             \u001b[0mexpanded_formula\u001b[0m \u001b[0;34m=\u001b[0m \u001b[0mformula\u001b[0m\u001b[0;34m.\u001b[0m\u001b[0mreplace\u001b[0m\u001b[0;34m(\u001b[0m\u001b[0mm\u001b[0m\u001b[0;34m.\u001b[0m\u001b[0mgroup\u001b[0m\u001b[0;34m(\u001b[0m\u001b[0;34m)\u001b[0m\u001b[0;34m,\u001b[0m \u001b[0mexpanded_sym\u001b[0m\u001b[0;34m)\u001b[0m\u001b[0;34m\u001b[0m\u001b[0;34m\u001b[0m\u001b[0m\n\u001b[1;32m    560\u001b[0m             \u001b[0;32mreturn\u001b[0m \u001b[0mself\u001b[0m\u001b[0;34m.\u001b[0m\u001b[0m_parse_formula\u001b[0m\u001b[0;34m(\u001b[0m\u001b[0mexpanded_formula\u001b[0m\u001b[0;34m)\u001b[0m\u001b[0;34m\u001b[0m\u001b[0;34m\u001b[0m\u001b[0m\n\u001b[0;32m--> 561\u001b[0;31m         \u001b[0;32mreturn\u001b[0m \u001b[0mget_sym_dict\u001b[0m\u001b[0;34m(\u001b[0m\u001b[0mformula\u001b[0m\u001b[0;34m,\u001b[0m \u001b[0;36m1\u001b[0m\u001b[0;34m)\u001b[0m\u001b[0;34m\u001b[0m\u001b[0;34m\u001b[0m\u001b[0m\n\u001b[0m\u001b[1;32m    562\u001b[0m \u001b[0;34m\u001b[0m\u001b[0m\n\u001b[1;32m    563\u001b[0m     \u001b[0;34m@\u001b[0m\u001b[0mproperty\u001b[0m\u001b[0;34m\u001b[0m\u001b[0;34m\u001b[0m\u001b[0m\n",
            "\u001b[0;32m/usr/local/lib/python3.10/dist-packages/pymatgen/core/composition.py\u001b[0m in \u001b[0;36mget_sym_dict\u001b[0;34m(form, factor)\u001b[0m\n\u001b[1;32m    543\u001b[0m                 \u001b[0mamt\u001b[0m \u001b[0;34m=\u001b[0m \u001b[0;36m1.0\u001b[0m\u001b[0;34m\u001b[0m\u001b[0;34m\u001b[0m\u001b[0m\n\u001b[1;32m    544\u001b[0m                 \u001b[0;32mif\u001b[0m \u001b[0mm\u001b[0m\u001b[0;34m.\u001b[0m\u001b[0mgroup\u001b[0m\u001b[0;34m(\u001b[0m\u001b[0;36m2\u001b[0m\u001b[0;34m)\u001b[0m\u001b[0;34m.\u001b[0m\u001b[0mstrip\u001b[0m\u001b[0;34m(\u001b[0m\u001b[0;34m)\u001b[0m \u001b[0;34m!=\u001b[0m \u001b[0;34m\"\"\u001b[0m\u001b[0;34m:\u001b[0m\u001b[0;34m\u001b[0m\u001b[0;34m\u001b[0m\u001b[0m\n\u001b[0;32m--> 545\u001b[0;31m                     \u001b[0mamt\u001b[0m \u001b[0;34m=\u001b[0m \u001b[0mfloat\u001b[0m\u001b[0;34m(\u001b[0m\u001b[0mm\u001b[0m\u001b[0;34m.\u001b[0m\u001b[0mgroup\u001b[0m\u001b[0;34m(\u001b[0m\u001b[0;36m2\u001b[0m\u001b[0;34m)\u001b[0m\u001b[0;34m)\u001b[0m\u001b[0;34m\u001b[0m\u001b[0;34m\u001b[0m\u001b[0m\n\u001b[0m\u001b[1;32m    546\u001b[0m                 \u001b[0msym_dict\u001b[0m\u001b[0;34m[\u001b[0m\u001b[0mel\u001b[0m\u001b[0;34m]\u001b[0m \u001b[0;34m+=\u001b[0m \u001b[0mamt\u001b[0m \u001b[0;34m*\u001b[0m \u001b[0mfactor\u001b[0m\u001b[0;34m\u001b[0m\u001b[0;34m\u001b[0m\u001b[0m\n\u001b[1;32m    547\u001b[0m                 \u001b[0mform\u001b[0m \u001b[0;34m=\u001b[0m \u001b[0mform\u001b[0m\u001b[0;34m.\u001b[0m\u001b[0mreplace\u001b[0m\u001b[0;34m(\u001b[0m\u001b[0mm\u001b[0m\u001b[0;34m.\u001b[0m\u001b[0mgroup\u001b[0m\u001b[0;34m(\u001b[0m\u001b[0;34m)\u001b[0m\u001b[0;34m,\u001b[0m \u001b[0;34m\"\"\u001b[0m\u001b[0;34m,\u001b[0m \u001b[0;36m1\u001b[0m\u001b[0;34m)\u001b[0m\u001b[0;34m\u001b[0m\u001b[0;34m\u001b[0m\u001b[0m\n",
            "\u001b[0;31mValueError\u001b[0m: could not convert string to float: '4-'"
          ]
        }
      ]
    },
    {
      "cell_type": "code",
      "source": [
        "df.to_csv (r'C:\\Data_2.csv', index= False )"
      ],
      "metadata": {
        "id": "67ivtvFmVMKh"
      },
      "execution_count": 22,
      "outputs": []
    },
    {
      "cell_type": "code",
      "source": [],
      "metadata": {
        "id": "Vw-ePv8RHpE2"
      },
      "execution_count": null,
      "outputs": []
    }
  ]
}