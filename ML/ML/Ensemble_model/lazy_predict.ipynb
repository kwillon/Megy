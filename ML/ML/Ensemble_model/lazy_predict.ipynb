{
  "cells": [
    {
      "cell_type": "code",
      "execution_count": 1,
      "metadata": {
        "colab": {
          "base_uri": "https://localhost:8080/"
        },
        "id": "0bnS2v2RBgzm",
        "outputId": "e16e477e-32fa-4749-b6a4-10026ad93134"
      },
      "outputs": [
        {
          "name": "stdout",
          "output_type": "stream",
          "text": [
            "Requirement already satisfied: lazypredict in c:\\users\\ксения\\appdata\\local\\programs\\python\\python311\\lib\\site-packages (0.2.12)\n",
            "Requirement already satisfied: click in c:\\users\\ксения\\appdata\\local\\programs\\python\\python311\\lib\\site-packages (from lazypredict) (8.1.7)\n",
            "Requirement already satisfied: scikit-learn in c:\\users\\ксения\\appdata\\local\\programs\\python\\python311\\lib\\site-packages (from lazypredict) (1.4.2)\n",
            "Requirement already satisfied: pandas in c:\\users\\ксения\\appdata\\local\\programs\\python\\python311\\lib\\site-packages (from lazypredict) (1.5.3)\n",
            "Requirement already satisfied: tqdm in c:\\users\\ксения\\appdata\\local\\programs\\python\\python311\\lib\\site-packages (from lazypredict) (4.66.2)\n",
            "Requirement already satisfied: joblib in c:\\users\\ксения\\appdata\\local\\programs\\python\\python311\\lib\\site-packages (from lazypredict) (1.3.2)\n",
            "Requirement already satisfied: lightgbm in c:\\users\\ксения\\appdata\\local\\programs\\python\\python311\\lib\\site-packages (from lazypredict) (4.3.0)\n",
            "Requirement already satisfied: xgboost in c:\\users\\ксения\\appdata\\local\\programs\\python\\python311\\lib\\site-packages (from lazypredict) (2.0.3)\n",
            "Requirement already satisfied: colorama in c:\\users\\ксения\\appdata\\roaming\\python\\python311\\site-packages (from click->lazypredict) (0.4.6)\n",
            "Requirement already satisfied: numpy in c:\\users\\ксения\\appdata\\local\\programs\\python\\python311\\lib\\site-packages (from lightgbm->lazypredict) (1.26.4)\n",
            "Requirement already satisfied: scipy in c:\\users\\ксения\\appdata\\local\\programs\\python\\python311\\lib\\site-packages (from lightgbm->lazypredict) (1.12.0)\n",
            "Requirement already satisfied: python-dateutil>=2.8.1 in c:\\users\\ксения\\appdata\\roaming\\python\\python311\\site-packages (from pandas->lazypredict) (2.9.0.post0)\n",
            "Requirement already satisfied: pytz>=2020.1 in c:\\users\\ксения\\appdata\\local\\programs\\python\\python311\\lib\\site-packages (from pandas->lazypredict) (2023.3)\n",
            "Requirement already satisfied: threadpoolctl>=2.0.0 in c:\\users\\ксения\\appdata\\local\\programs\\python\\python311\\lib\\site-packages (from scikit-learn->lazypredict) (3.3.0)\n",
            "Requirement already satisfied: six>=1.5 in c:\\users\\ксения\\appdata\\local\\programs\\python\\python311\\lib\\site-packages (from python-dateutil>=2.8.1->pandas->lazypredict) (1.16.0)\n"
          ]
        }
      ],
      "source": [
        "!pip install lazypredict"
      ]
    },
    {
      "cell_type": "code",
      "execution_count": 2,
      "metadata": {
        "colab": {
          "base_uri": "https://localhost:8080/"
        },
        "id": "UzjPZqf9BAqh",
        "outputId": "2ac9e125-2306-44e4-de51-8c43aab2cfba"
      },
      "outputs": [
        {
          "ename": "TypeError",
          "evalue": "OneHotEncoder.__init__() got an unexpected keyword argument 'sparse'",
          "output_type": "error",
          "traceback": [
            "\u001b[1;31m---------------------------------------------------------------------------\u001b[0m",
            "\u001b[1;31mTypeError\u001b[0m                                 Traceback (most recent call last)",
            "Cell \u001b[1;32mIn[2], line 5\u001b[0m\n\u001b[0;32m      3\u001b[0m \u001b[38;5;28;01mfrom\u001b[39;00m \u001b[38;5;21;01msklearn\u001b[39;00m\u001b[38;5;21;01m.\u001b[39;00m\u001b[38;5;21;01mpreprocessing\u001b[39;00m \u001b[38;5;28;01mimport\u001b[39;00m MinMaxScaler\n\u001b[0;32m      4\u001b[0m \u001b[38;5;28;01mfrom\u001b[39;00m \u001b[38;5;21;01msklearn\u001b[39;00m\u001b[38;5;21;01m.\u001b[39;00m\u001b[38;5;21;01mmodel_selection\u001b[39;00m \u001b[38;5;28;01mimport\u001b[39;00m train_test_split\n\u001b[1;32m----> 5\u001b[0m \u001b[38;5;28;01mfrom\u001b[39;00m \u001b[38;5;21;01mlazypredict\u001b[39;00m\u001b[38;5;21;01m.\u001b[39;00m\u001b[38;5;21;01mSupervised\u001b[39;00m \u001b[38;5;28;01mimport\u001b[39;00m LazyRegressor\n\u001b[0;32m      7\u001b[0m \u001b[38;5;66;03m# Загрузка данных\u001b[39;00m\n\u001b[0;32m      8\u001b[0m df \u001b[38;5;241m=\u001b[39m pd\u001b[38;5;241m.\u001b[39mread_csv(\u001b[38;5;124mr\u001b[39m\u001b[38;5;124m'\u001b[39m\u001b[38;5;124mC:\u001b[39m\u001b[38;5;124m\\\u001b[39m\u001b[38;5;124mUsers\u001b[39m\u001b[38;5;124m\\\u001b[39m\u001b[38;5;124mКсения\u001b[39m\u001b[38;5;124m\\\u001b[39m\u001b[38;5;124mProject\u001b[39m\u001b[38;5;124m\\\u001b[39m\u001b[38;5;124mMegy\u001b[39m\u001b[38;5;124m\\\u001b[39m\u001b[38;5;124mML\u001b[39m\u001b[38;5;124m\\\u001b[39m\u001b[38;5;124mML\u001b[39m\u001b[38;5;124m\\\u001b[39m\u001b[38;5;124mvalidation\u001b[39m\u001b[38;5;124m\\\u001b[39m\u001b[38;5;124mO_nan_for_val.csv\u001b[39m\u001b[38;5;124m'\u001b[39m)\n",
            "File \u001b[1;32mc:\\Users\\Ксения\\AppData\\Local\\Programs\\Python\\Python311\\Lib\\site-packages\\lazypredict\\Supervised.py:98\u001b[0m\n\u001b[0;32m     89\u001b[0m \u001b[38;5;66;03m# CLASSIFIERS.append(('CatBoostClassifier',catboost.CatBoostClassifier))\u001b[39;00m\n\u001b[0;32m     91\u001b[0m numeric_transformer \u001b[38;5;241m=\u001b[39m Pipeline(\n\u001b[0;32m     92\u001b[0m     steps\u001b[38;5;241m=\u001b[39m[(\u001b[38;5;124m\"\u001b[39m\u001b[38;5;124mimputer\u001b[39m\u001b[38;5;124m\"\u001b[39m, SimpleImputer(strategy\u001b[38;5;241m=\u001b[39m\u001b[38;5;124m\"\u001b[39m\u001b[38;5;124mmean\u001b[39m\u001b[38;5;124m\"\u001b[39m)), (\u001b[38;5;124m\"\u001b[39m\u001b[38;5;124mscaler\u001b[39m\u001b[38;5;124m\"\u001b[39m, StandardScaler())]\n\u001b[0;32m     93\u001b[0m )\n\u001b[0;32m     95\u001b[0m categorical_transformer_low \u001b[38;5;241m=\u001b[39m Pipeline(\n\u001b[0;32m     96\u001b[0m     steps\u001b[38;5;241m=\u001b[39m[\n\u001b[0;32m     97\u001b[0m         (\u001b[38;5;124m\"\u001b[39m\u001b[38;5;124mimputer\u001b[39m\u001b[38;5;124m\"\u001b[39m, SimpleImputer(strategy\u001b[38;5;241m=\u001b[39m\u001b[38;5;124m\"\u001b[39m\u001b[38;5;124mconstant\u001b[39m\u001b[38;5;124m\"\u001b[39m, fill_value\u001b[38;5;241m=\u001b[39m\u001b[38;5;124m\"\u001b[39m\u001b[38;5;124mmissing\u001b[39m\u001b[38;5;124m\"\u001b[39m)),\n\u001b[1;32m---> 98\u001b[0m         (\u001b[38;5;124m\"\u001b[39m\u001b[38;5;124mencoding\u001b[39m\u001b[38;5;124m\"\u001b[39m, \u001b[43mOneHotEncoder\u001b[49m\u001b[43m(\u001b[49m\u001b[43mhandle_unknown\u001b[49m\u001b[38;5;241;43m=\u001b[39;49m\u001b[38;5;124;43m\"\u001b[39;49m\u001b[38;5;124;43mignore\u001b[39;49m\u001b[38;5;124;43m\"\u001b[39;49m\u001b[43m,\u001b[49m\u001b[43m \u001b[49m\u001b[43msparse\u001b[49m\u001b[38;5;241;43m=\u001b[39;49m\u001b[38;5;28;43;01mFalse\u001b[39;49;00m\u001b[43m)\u001b[49m),\n\u001b[0;32m     99\u001b[0m     ]\n\u001b[0;32m    100\u001b[0m )\n\u001b[0;32m    102\u001b[0m categorical_transformer_high \u001b[38;5;241m=\u001b[39m Pipeline(\n\u001b[0;32m    103\u001b[0m     steps\u001b[38;5;241m=\u001b[39m[\n\u001b[0;32m    104\u001b[0m         (\u001b[38;5;124m\"\u001b[39m\u001b[38;5;124mimputer\u001b[39m\u001b[38;5;124m\"\u001b[39m, SimpleImputer(strategy\u001b[38;5;241m=\u001b[39m\u001b[38;5;124m\"\u001b[39m\u001b[38;5;124mconstant\u001b[39m\u001b[38;5;124m\"\u001b[39m, fill_value\u001b[38;5;241m=\u001b[39m\u001b[38;5;124m\"\u001b[39m\u001b[38;5;124mmissing\u001b[39m\u001b[38;5;124m\"\u001b[39m)),\n\u001b[1;32m   (...)\u001b[0m\n\u001b[0;32m    107\u001b[0m     ]\n\u001b[0;32m    108\u001b[0m )\n\u001b[0;32m    111\u001b[0m \u001b[38;5;66;03m# Helper function\u001b[39;00m\n",
            "\u001b[1;31mTypeError\u001b[0m: OneHotEncoder.__init__() got an unexpected keyword argument 'sparse'"
          ]
        }
      ],
      "source": [
        "import pandas as pd\n",
        "import numpy as np\n",
        "from sklearn.preprocessing import MinMaxScaler\n",
        "from sklearn.model_selection import train_test_split\n",
        "from lazypredict.Supervised import LazyRegressor\n",
        "\n",
        "# Загрузка данных\n",
        "df = pd.read_csv(r'C:\\Users\\Ксения\\Project\\Megy\\ML\\ML\\validation\\O_nan_for_val.csv')\n",
        "df = df.loc[:, 'area/volume':'mass_magnetic_susceptibility']\n",
        "\n",
        "# Разделение на признаки и целевую переменную\n",
        "X = df.drop(columns=['saturation_magnetization']).values  # Признаки\n",
        "y = df['saturation_magnetization'].values  # Целевая переменная\n",
        "\n",
        "# Разделение данных на обучающий и тестовый наборы\n",
        "X_train, X_test, y_train, y_test = train_test_split(X, y, test_size=0.2, random_state=1984)\n",
        "scaler = MinMaxScaler()\n",
        "x_train = scaler.fit_transform(X_train)\n",
        "x_test = scaler.transform(X_test)\n",
        "y_train = np.log10(y_train)\n",
        "y_test = np.log10(y_test)\n",
        "\n",
        "# Создание LazyRegressor\n",
        "reg = LazyRegressor(predictions=True)\n",
        "\n",
        "# Обучение и тестирование моделей\n",
        "models, predictions = reg.fit(X_train, X_test, y_train, y_test)\n",
        "\n",
        "# Вывод всех метрик для каждой модели\n",
        "results_df = pd.DataFrame(models)\n",
        "print(results_df)\n"
      ]
    }
  ],
  "metadata": {
    "colab": {
      "provenance": []
    },
    "kernelspec": {
      "display_name": "Python 3",
      "name": "python3"
    },
    "language_info": {
      "codemirror_mode": {
        "name": "ipython",
        "version": 3
      },
      "file_extension": ".py",
      "mimetype": "text/x-python",
      "name": "python",
      "nbconvert_exporter": "python",
      "pygments_lexer": "ipython3",
      "version": "3.11.4"
    }
  },
  "nbformat": 4,
  "nbformat_minor": 0
}
